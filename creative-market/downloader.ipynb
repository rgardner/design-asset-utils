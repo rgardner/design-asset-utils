{
 "cells": [
  {
   "cell_type": "code",
   "execution_count": 1,
   "metadata": {},
   "outputs": [],
   "source": [
    "from datetime import datetime\n",
    "import logging\n",
    "import os\n",
    "import sys\n",
    "import time\n",
    "\n",
    "from IPython.display import Image, display\n",
    "from selenium.common.exceptions import WebDriverException\n",
    "\n",
    "from creative_market import CreativeMarketDriver, CreativeMarketError"
   ]
  },
  {
   "cell_type": "code",
   "execution_count": 2,
   "metadata": {},
   "outputs": [],
   "source": [
    "DEBUG = bool(os.environ['CREATIVE_MARKET_DEBUG'])\n",
    "CREATIVE_MARKET_USERNAME = os.environ['CREATIVE_MARKET_USERNAME']\n",
    "CREATIVE_MARKET_PASSWORD = os.environ['CREATIVE_MARKET_PASSWORD']\n",
    "\n",
    "logging.basicConfig(stream=sys.stdout, level=logging.DEBUG)\n",
    "logger = logging.getLogger(__name__)"
   ]
  },
  {
   "cell_type": "code",
   "execution_count": 3,
   "metadata": {},
   "outputs": [
    {
     "name": "stdout",
     "output_type": "stream",
     "text": [
      "DEBUG:selenium.webdriver.remote.remote_connection:POST http://127.0.0.1:61706/session {\"capabilities\": {\"firstMatch\": [{}], \"alwaysMatch\": {\"browserName\": \"chrome\", \"platformName\": \"any\", \"goog:chromeOptions\": {\"extensions\": [], \"binary\": \"/Applications/Google Chrome.app/Contents/MacOS/Google Chrome\", \"args\": [\"headless\"]}}}, \"desiredCapabilities\": {\"browserName\": \"chrome\", \"version\": \"\", \"platform\": \"ANY\", \"goog:chromeOptions\": {\"extensions\": [], \"binary\": \"/Applications/Google Chrome.app/Contents/MacOS/Google Chrome\", \"args\": [\"headless\"]}}}\n",
      "DEBUG:urllib3.connectionpool:Starting new HTTP connection (1): 127.0.0.1:61706\n",
      "DEBUG:urllib3.connectionpool:http://127.0.0.1:61706 \"POST /session HTTP/1.1\" 200 904\n",
      "DEBUG:selenium.webdriver.remote.remote_connection:Finished Request\n"
     ]
    }
   ],
   "source": [
    "driver = CreativeMarketDriver(DEBUG)"
   ]
  },
  {
   "cell_type": "code",
   "execution_count": 4,
   "metadata": {},
   "outputs": [],
   "source": [
    "def log_error(driver):\n",
    "    display(Image(driver.get_screenshot_as_png()))"
   ]
  },
  {
   "cell_type": "code",
   "execution_count": 5,
   "metadata": {},
   "outputs": [
    {
     "name": "stdout",
     "output_type": "stream",
     "text": [
      "DEBUG:selenium.webdriver.remote.remote_connection:POST http://127.0.0.1:61706/session/f27a513a3fb0dee33e091edeab234ffd/url {\"url\": \"https://creativemarket.com/sign-in\", \"sessionId\": \"f27a513a3fb0dee33e091edeab234ffd\"}\n",
      "DEBUG:urllib3.connectionpool:http://127.0.0.1:61706 \"POST /session/f27a513a3fb0dee33e091edeab234ffd/url HTTP/1.1\" 200 72\n",
      "DEBUG:selenium.webdriver.remote.remote_connection:Finished Request\n",
      "DEBUG:selenium.webdriver.remote.remote_connection:POST http://127.0.0.1:61706/session/f27a513a3fb0dee33e091edeab234ffd/element {\"using\": \"id\", \"value\": \"input-username\", \"sessionId\": \"f27a513a3fb0dee33e091edeab234ffd\"}\n",
      "DEBUG:urllib3.connectionpool:http://127.0.0.1:61706 \"POST /session/f27a513a3fb0dee33e091edeab234ffd/element HTTP/1.1\" 200 102\n",
      "DEBUG:selenium.webdriver.remote.remote_connection:Finished Request\n",
      "DEBUG:selenium.webdriver.remote.remote_connection:POST http://127.0.0.1:61706/session/f27a513a3fb0dee33e091edeab234ffd/element/0.1443816885014948-1/value {\"text\": \"nicole.winter\", \"value\": [\"n\", \"i\", \"c\", \"o\", \"l\", \"e\", \".\", \"w\", \"i\", \"n\", \"t\", \"e\", \"r\"], \"id\": \"0.1443816885014948-1\", \"sessionId\": \"f27a513a3fb0dee33e091edeab234ffd\"}\n",
      "DEBUG:urllib3.connectionpool:http://127.0.0.1:61706 \"POST /session/f27a513a3fb0dee33e091edeab234ffd/element/0.1443816885014948-1/value HTTP/1.1\" 200 72\n",
      "DEBUG:selenium.webdriver.remote.remote_connection:Finished Request\n",
      "DEBUG:selenium.webdriver.remote.remote_connection:POST http://127.0.0.1:61706/session/f27a513a3fb0dee33e091edeab234ffd/element {\"using\": \"id\", \"value\": \"input-password\", \"sessionId\": \"f27a513a3fb0dee33e091edeab234ffd\"}\n",
      "DEBUG:urllib3.connectionpool:http://127.0.0.1:61706 \"POST /session/f27a513a3fb0dee33e091edeab234ffd/element HTTP/1.1\" 200 102\n",
      "DEBUG:selenium.webdriver.remote.remote_connection:Finished Request\n",
      "DEBUG:selenium.webdriver.remote.remote_connection:POST http://127.0.0.1:61706/session/f27a513a3fb0dee33e091edeab234ffd/element/0.1443816885014948-2/value {\"text\": \"atheling-ezra-pond\", \"value\": [\"a\", \"t\", \"h\", \"e\", \"l\", \"i\", \"n\", \"g\", \"-\", \"e\", \"z\", \"r\", \"a\", \"-\", \"p\", \"o\", \"n\", \"d\"], \"id\": \"0.1443816885014948-2\", \"sessionId\": \"f27a513a3fb0dee33e091edeab234ffd\"}\n",
      "DEBUG:urllib3.connectionpool:http://127.0.0.1:61706 \"POST /session/f27a513a3fb0dee33e091edeab234ffd/element/0.1443816885014948-2/value HTTP/1.1\" 200 72\n",
      "DEBUG:selenium.webdriver.remote.remote_connection:Finished Request\n",
      "DEBUG:selenium.webdriver.remote.remote_connection:POST http://127.0.0.1:61706/session/f27a513a3fb0dee33e091edeab234ffd/element {\"using\": \"css selector\", \"value\": \"#sign-in-form > button\", \"sessionId\": \"f27a513a3fb0dee33e091edeab234ffd\"}\n",
      "DEBUG:urllib3.connectionpool:http://127.0.0.1:61706 \"POST /session/f27a513a3fb0dee33e091edeab234ffd/element HTTP/1.1\" 200 102\n",
      "DEBUG:selenium.webdriver.remote.remote_connection:Finished Request\n",
      "DEBUG:selenium.webdriver.remote.remote_connection:POST http://127.0.0.1:61706/session/f27a513a3fb0dee33e091edeab234ffd/element/0.1443816885014948-3/click {\"id\": \"0.1443816885014948-3\", \"sessionId\": \"f27a513a3fb0dee33e091edeab234ffd\"}\n",
      "DEBUG:urllib3.connectionpool:http://127.0.0.1:61706 \"POST /session/f27a513a3fb0dee33e091edeab234ffd/element/0.1443816885014948-3/click HTTP/1.1\" 200 72\n",
      "DEBUG:selenium.webdriver.remote.remote_connection:Finished Request\n",
      "DEBUG:selenium.webdriver.remote.remote_connection:POST http://127.0.0.1:61706/session/f27a513a3fb0dee33e091edeab234ffd/element {\"using\": \"class name\", \"value\": \"user-name\", \"sessionId\": \"f27a513a3fb0dee33e091edeab234ffd\"}\n",
      "DEBUG:urllib3.connectionpool:http://127.0.0.1:61706 \"POST /session/f27a513a3fb0dee33e091edeab234ffd/element HTTP/1.1\" 200 102\n",
      "DEBUG:selenium.webdriver.remote.remote_connection:Finished Request\n"
     ]
    }
   ],
   "source": [
    "try:\n",
    "    driver.login(CREATIVE_MARKET_USERNAME, CREATIVE_MARKET_PASSWORD)\n",
    "except WebDriverException:\n",
    "    log_error(driver)\n",
    "    raise"
   ]
  },
  {
   "cell_type": "code",
   "execution_count": 6,
   "metadata": {},
   "outputs": [
    {
     "name": "stdout",
     "output_type": "stream",
     "text": [
      "DEBUG:selenium.webdriver.remote.remote_connection:POST http://127.0.0.1:61706/session/f27a513a3fb0dee33e091edeab234ffd/url {\"url\": \"https://creativemarket.com/free-goods\", \"sessionId\": \"f27a513a3fb0dee33e091edeab234ffd\"}\n",
      "DEBUG:urllib3.connectionpool:http://127.0.0.1:61706 \"POST /session/f27a513a3fb0dee33e091edeab234ffd/url HTTP/1.1\" 200 72\n",
      "DEBUG:selenium.webdriver.remote.remote_connection:Finished Request\n",
      "DEBUG:selenium.webdriver.remote.remote_connection:POST http://127.0.0.1:61706/session/f27a513a3fb0dee33e091edeab234ffd/elements {\"using\": \"css selector\", \"value\": \".btn-dropbox\", \"sessionId\": \"f27a513a3fb0dee33e091edeab234ffd\"}\n",
      "DEBUG:urllib3.connectionpool:http://127.0.0.1:61706 \"POST /session/f27a513a3fb0dee33e091edeab234ffd/elements HTTP/1.1\" 200 384\n",
      "DEBUG:selenium.webdriver.remote.remote_connection:Finished Request\n",
      "DEBUG:selenium.webdriver.remote.remote_connection:GET http://127.0.0.1:61706/session/f27a513a3fb0dee33e091edeab234ffd/element/0.1664387886361065-1/displayed {\"id\": \"0.1664387886361065-1\", \"sessionId\": \"f27a513a3fb0dee33e091edeab234ffd\"}\n",
      "DEBUG:urllib3.connectionpool:http://127.0.0.1:61706 \"GET /session/f27a513a3fb0dee33e091edeab234ffd/element/0.1664387886361065-1/displayed HTTP/1.1\" 200 72\n",
      "DEBUG:selenium.webdriver.remote.remote_connection:Finished Request\n",
      "DEBUG:selenium.webdriver.remote.remote_connection:GET http://127.0.0.1:61706/session/f27a513a3fb0dee33e091edeab234ffd/element/0.1664387886361065-2/displayed {\"id\": \"0.1664387886361065-2\", \"sessionId\": \"f27a513a3fb0dee33e091edeab234ffd\"}\n",
      "DEBUG:urllib3.connectionpool:http://127.0.0.1:61706 \"GET /session/f27a513a3fb0dee33e091edeab234ffd/element/0.1664387886361065-2/displayed HTTP/1.1\" 200 72\n",
      "DEBUG:selenium.webdriver.remote.remote_connection:Finished Request\n",
      "DEBUG:selenium.webdriver.remote.remote_connection:GET http://127.0.0.1:61706/session/f27a513a3fb0dee33e091edeab234ffd/element/0.1664387886361065-3/displayed {\"id\": \"0.1664387886361065-3\", \"sessionId\": \"f27a513a3fb0dee33e091edeab234ffd\"}\n",
      "DEBUG:urllib3.connectionpool:http://127.0.0.1:61706 \"GET /session/f27a513a3fb0dee33e091edeab234ffd/element/0.1664387886361065-3/displayed HTTP/1.1\" 200 72\n",
      "DEBUG:selenium.webdriver.remote.remote_connection:Finished Request\n",
      "DEBUG:selenium.webdriver.remote.remote_connection:GET http://127.0.0.1:61706/session/f27a513a3fb0dee33e091edeab234ffd/element/0.1664387886361065-4/displayed {\"id\": \"0.1664387886361065-4\", \"sessionId\": \"f27a513a3fb0dee33e091edeab234ffd\"}\n",
      "DEBUG:urllib3.connectionpool:http://127.0.0.1:61706 \"GET /session/f27a513a3fb0dee33e091edeab234ffd/element/0.1664387886361065-4/displayed HTTP/1.1\" 200 72\n",
      "DEBUG:selenium.webdriver.remote.remote_connection:Finished Request\n",
      "DEBUG:selenium.webdriver.remote.remote_connection:GET http://127.0.0.1:61706/session/f27a513a3fb0dee33e091edeab234ffd/element/0.1664387886361065-5/displayed {\"id\": \"0.1664387886361065-5\", \"sessionId\": \"f27a513a3fb0dee33e091edeab234ffd\"}\n",
      "DEBUG:urllib3.connectionpool:http://127.0.0.1:61706 \"GET /session/f27a513a3fb0dee33e091edeab234ffd/element/0.1664387886361065-5/displayed HTTP/1.1\" 200 72\n",
      "DEBUG:selenium.webdriver.remote.remote_connection:Finished Request\n",
      "DEBUG:selenium.webdriver.remote.remote_connection:GET http://127.0.0.1:61706/session/f27a513a3fb0dee33e091edeab234ffd/element/0.1664387886361065-6/displayed {\"id\": \"0.1664387886361065-6\", \"sessionId\": \"f27a513a3fb0dee33e091edeab234ffd\"}\n",
      "DEBUG:urllib3.connectionpool:http://127.0.0.1:61706 \"GET /session/f27a513a3fb0dee33e091edeab234ffd/element/0.1664387886361065-6/displayed HTTP/1.1\" 200 72\n",
      "DEBUG:selenium.webdriver.remote.remote_connection:Finished Request\n",
      "DEBUG:selenium.webdriver.remote.remote_connection:GET http://127.0.0.1:61706/session/f27a513a3fb0dee33e091edeab234ffd/element/0.1664387886361065-7/displayed {\"id\": \"0.1664387886361065-7\", \"sessionId\": \"f27a513a3fb0dee33e091edeab234ffd\"}\n",
      "DEBUG:urllib3.connectionpool:http://127.0.0.1:61706 \"GET /session/f27a513a3fb0dee33e091edeab234ffd/element/0.1664387886361065-7/displayed HTTP/1.1\" 200 73\n",
      "DEBUG:selenium.webdriver.remote.remote_connection:Finished Request\n",
      "DEBUG:selenium.webdriver.remote.remote_connection:GET http://127.0.0.1:61706/session/f27a513a3fb0dee33e091edeab234ffd/element/0.1664387886361065-8/displayed {\"id\": \"0.1664387886361065-8\", \"sessionId\": \"f27a513a3fb0dee33e091edeab234ffd\"}\n",
      "DEBUG:urllib3.connectionpool:http://127.0.0.1:61706 \"GET /session/f27a513a3fb0dee33e091edeab234ffd/element/0.1664387886361065-8/displayed HTTP/1.1\" 200 73\n",
      "DEBUG:selenium.webdriver.remote.remote_connection:Finished Request\n",
      "DEBUG:selenium.webdriver.remote.remote_connection:GET http://127.0.0.1:61706/session/f27a513a3fb0dee33e091edeab234ffd/element/0.1664387886361065-9/displayed {\"id\": \"0.1664387886361065-9\", \"sessionId\": \"f27a513a3fb0dee33e091edeab234ffd\"}\n",
      "DEBUG:urllib3.connectionpool:http://127.0.0.1:61706 \"GET /session/f27a513a3fb0dee33e091edeab234ffd/element/0.1664387886361065-9/displayed HTTP/1.1\" 200 73\n",
      "DEBUG:selenium.webdriver.remote.remote_connection:Finished Request\n"
     ]
    }
   ],
   "source": [
    "try:\n",
    "    free_sync_links = driver.get_free_dropbox_sync_links()\n",
    "    if not free_sync_links:\n",
    "        raise CreativeMarketError('no sync links found', driver)\n",
    "except WebDriverException:\n",
    "    log_error(driver)\n",
    "    raise"
   ]
  },
  {
   "cell_type": "code",
   "execution_count": 7,
   "metadata": {},
   "outputs": [
    {
     "name": "stdout",
     "output_type": "stream",
     "text": [
      "DEBUG:selenium.webdriver.remote.remote_connection:GET http://127.0.0.1:61706/session/f27a513a3fb0dee33e091edeab234ffd/element/0.1664387886361065-1/text {\"id\": \"0.1664387886361065-1\", \"sessionId\": \"f27a513a3fb0dee33e091edeab234ffd\"}\n",
      "DEBUG:urllib3.connectionpool:http://127.0.0.1:61706 \"GET /session/f27a513a3fb0dee33e091edeab234ffd/element/0.1664387886361065-1/text HTTP/1.1\" 200 76\n",
      "DEBUG:selenium.webdriver.remote.remote_connection:Finished Request\n",
      "DEBUG:selenium.webdriver.remote.remote_connection:GET http://127.0.0.1:61706/session/f27a513a3fb0dee33e091edeab234ffd/element/0.1664387886361065-2/text {\"id\": \"0.1664387886361065-2\", \"sessionId\": \"f27a513a3fb0dee33e091edeab234ffd\"}\n",
      "DEBUG:urllib3.connectionpool:http://127.0.0.1:61706 \"GET /session/f27a513a3fb0dee33e091edeab234ffd/element/0.1664387886361065-2/text HTTP/1.1\" 200 76\n",
      "DEBUG:selenium.webdriver.remote.remote_connection:Finished Request\n",
      "DEBUG:selenium.webdriver.remote.remote_connection:GET http://127.0.0.1:61706/session/f27a513a3fb0dee33e091edeab234ffd/element/0.1664387886361065-3/text {\"id\": \"0.1664387886361065-3\", \"sessionId\": \"f27a513a3fb0dee33e091edeab234ffd\"}\n",
      "DEBUG:urllib3.connectionpool:http://127.0.0.1:61706 \"GET /session/f27a513a3fb0dee33e091edeab234ffd/element/0.1664387886361065-3/text HTTP/1.1\" 200 76\n",
      "DEBUG:selenium.webdriver.remote.remote_connection:Finished Request\n",
      "DEBUG:selenium.webdriver.remote.remote_connection:GET http://127.0.0.1:61706/session/f27a513a3fb0dee33e091edeab234ffd/element/0.1664387886361065-4/text {\"id\": \"0.1664387886361065-4\", \"sessionId\": \"f27a513a3fb0dee33e091edeab234ffd\"}\n",
      "DEBUG:urllib3.connectionpool:http://127.0.0.1:61706 \"GET /session/f27a513a3fb0dee33e091edeab234ffd/element/0.1664387886361065-4/text HTTP/1.1\" 200 76\n",
      "DEBUG:selenium.webdriver.remote.remote_connection:Finished Request\n",
      "DEBUG:selenium.webdriver.remote.remote_connection:GET http://127.0.0.1:61706/session/f27a513a3fb0dee33e091edeab234ffd/element/0.1664387886361065-5/text {\"id\": \"0.1664387886361065-5\", \"sessionId\": \"f27a513a3fb0dee33e091edeab234ffd\"}\n",
      "DEBUG:urllib3.connectionpool:http://127.0.0.1:61706 \"GET /session/f27a513a3fb0dee33e091edeab234ffd/element/0.1664387886361065-5/text HTTP/1.1\" 200 76\n",
      "DEBUG:selenium.webdriver.remote.remote_connection:Finished Request\n",
      "DEBUG:selenium.webdriver.remote.remote_connection:GET http://127.0.0.1:61706/session/f27a513a3fb0dee33e091edeab234ffd/element/0.1664387886361065-6/text {\"id\": \"0.1664387886361065-6\", \"sessionId\": \"f27a513a3fb0dee33e091edeab234ffd\"}\n",
      "DEBUG:urllib3.connectionpool:http://127.0.0.1:61706 \"GET /session/f27a513a3fb0dee33e091edeab234ffd/element/0.1664387886361065-6/text HTTP/1.1\" 200 76\n",
      "DEBUG:selenium.webdriver.remote.remote_connection:Finished Request\n",
      "INFO:__main__:6 sync links found, 0 unclicked\n",
      "INFO:__main__:All free goods have already been downloaded\n"
     ]
    }
   ],
   "source": [
    "assert(free_sync_links)\n",
    "\n",
    "links_to_click = [\n",
    "    link\n",
    "    for link in free_sync_links if link.text == 'Sync to Dropbox'\n",
    "]\n",
    "logger.info('%d sync links found, %d unclicked', len(free_sync_links), len(links_to_click))\n",
    "\n",
    "for link in links_to_click:\n",
    "    link.click()\n",
    "    time.sleep(0.3)\n",
    "\n",
    "if links_to_click:\n",
    "    logger.info('Successfully downloaded free goods')\n",
    "else:\n",
    "    logger.info('All free goods have already been downloaded')"
   ]
  },
  {
   "cell_type": "code",
   "execution_count": 8,
   "metadata": {},
   "outputs": [
    {
     "name": "stdout",
     "output_type": "stream",
     "text": [
      "DEBUG:selenium.webdriver.remote.remote_connection:DELETE http://127.0.0.1:61706/session/f27a513a3fb0dee33e091edeab234ffd {\"sessionId\": \"f27a513a3fb0dee33e091edeab234ffd\"}\n",
      "DEBUG:urllib3.connectionpool:http://127.0.0.1:61706 \"DELETE /session/f27a513a3fb0dee33e091edeab234ffd HTTP/1.1\" 200 72\n",
      "DEBUG:selenium.webdriver.remote.remote_connection:Finished Request\n"
     ]
    }
   ],
   "source": [
    "driver.quit()"
   ]
  }
 ],
 "metadata": {
  "kernelspec": {
   "display_name": "Python 3",
   "language": "python",
   "name": "python3"
  },
  "language_info": {
   "codemirror_mode": {
    "name": "ipython",
    "version": 3
   },
   "file_extension": ".py",
   "mimetype": "text/x-python",
   "name": "python",
   "nbconvert_exporter": "python",
   "pygments_lexer": "ipython3",
   "version": "3.7.0"
  }
 },
 "nbformat": 4,
 "nbformat_minor": 2
}
