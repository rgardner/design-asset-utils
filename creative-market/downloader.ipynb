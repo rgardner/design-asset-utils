{
 "cells": [
  {
   "cell_type": "code",
   "execution_count": 1,
   "metadata": {},
   "outputs": [],
   "source": [
    "from datetime import datetime\n",
    "import logging\n",
    "import os\n",
    "import sys\n",
    "import time\n",
    "\n",
    "from selenium.common.exceptions import WebDriverException\n",
    "\n",
    "from creative_market2 import CreativeMarketDriver"
   ]
  },
  {
   "cell_type": "code",
   "execution_count": 2,
   "metadata": {},
   "outputs": [],
   "source": [
    "DEBUG = bool(os.environ['CREATIVE_MARKET_DEBUG'])\n",
    "FACEBOOK_USERNAME = os.environ['CREATIVE_MARKET_FB_USERNAME']\n",
    "FACEBOOK_PASSWORD = os.environ['CREATIVE_MARKET_FB_PASSWORD']\n",
    "\n",
    "logging.basicConfig(stream=sys.stdout, level=logging.DEBUG)\n",
    "logger = logging.getLogger(__name__)"
   ]
  },
  {
   "cell_type": "code",
   "execution_count": 3,
   "metadata": {},
   "outputs": [
    {
     "name": "stdout",
     "output_type": "stream",
     "text": [
      "DEBUG:selenium.webdriver.remote.remote_connection:POST http://127.0.0.1:55270/session {\"capabilities\": {\"firstMatch\": [{}], \"alwaysMatch\": {\"browserName\": \"chrome\", \"platformName\": \"any\", \"goog:chromeOptions\": {\"extensions\": [], \"binary\": \"/Applications/Google Chrome.app/Contents/MacOS/Google Chrome\", \"args\": [\"headless\"]}}}, \"desiredCapabilities\": {\"browserName\": \"chrome\", \"version\": \"\", \"platform\": \"ANY\", \"goog:chromeOptions\": {\"extensions\": [], \"binary\": \"/Applications/Google Chrome.app/Contents/MacOS/Google Chrome\", \"args\": [\"headless\"]}}}\n",
      "DEBUG:urllib3.connectionpool:Starting new HTTP connection (1): 127.0.0.1:55270\n",
      "DEBUG:urllib3.connectionpool:http://127.0.0.1:55270 \"POST /session HTTP/1.1\" 200 904\n",
      "DEBUG:selenium.webdriver.remote.remote_connection:Finished Request\n"
     ]
    }
   ],
   "source": [
    "driver = CreativeMarketDriver(DEBUG)"
   ]
  },
  {
   "cell_type": "code",
   "execution_count": 4,
   "metadata": {},
   "outputs": [
    {
     "name": "stdout",
     "output_type": "stream",
     "text": [
      "DEBUG:selenium.webdriver.remote.remote_connection:POST http://127.0.0.1:55270/session/93c245adcc570a0cd6e5d4b54f60deea/url {\"url\": \"https://creativemarket.com/free-goods\", \"sessionId\": \"93c245adcc570a0cd6e5d4b54f60deea\"}\n",
      "DEBUG:urllib3.connectionpool:http://127.0.0.1:55270 \"POST /session/93c245adcc570a0cd6e5d4b54f60deea/url HTTP/1.1\" 200 72\n",
      "DEBUG:selenium.webdriver.remote.remote_connection:Finished Request\n"
     ]
    }
   ],
   "source": [
    "free_sync_links = driver.get_free_dropbox_sync_links()"
   ]
  },
  {
   "cell_type": "code",
   "execution_count": 6,
   "metadata": {},
   "outputs": [
    {
     "name": "stdout",
     "output_type": "stream",
     "text": [
      "DEBUG:selenium.webdriver.remote.remote_connection:GET http://127.0.0.1:55270/session/93c245adcc570a0cd6e5d4b54f60deea/url {\"sessionId\": \"93c245adcc570a0cd6e5d4b54f60deea\"}\n",
      "DEBUG:urllib3.connectionpool:http://127.0.0.1:55270 \"GET /session/93c245adcc570a0cd6e5d4b54f60deea/url HTTP/1.1\" 200 107\n",
      "DEBUG:selenium.webdriver.remote.remote_connection:Finished Request\n",
      "DEBUG:selenium.webdriver.remote.remote_connection:POST http://127.0.0.1:55270/session/93c245adcc570a0cd6e5d4b54f60deea/elements {\"using\": \"css selector\", \"value\": \".btn-dropbox\", \"sessionId\": \"93c245adcc570a0cd6e5d4b54f60deea\"}\n",
      "DEBUG:urllib3.connectionpool:http://127.0.0.1:55270 \"POST /session/93c245adcc570a0cd6e5d4b54f60deea/elements HTTP/1.1\" 200 70\n",
      "DEBUG:selenium.webdriver.remote.remote_connection:Finished Request\n",
      "INFO:__main__:0 unclicked sync links found\n",
      "INFO:__main__:All free goods have already been downloaded\n"
     ]
    }
   ],
   "source": [
    "links_to_click = [\n",
    "    link for link in free_sync_links if link.text == 'Sync to Dropbox'\n",
    "]\n",
    "logger.info('%d unclicked sync links found', len(links_to_click))\n",
    "\n",
    "for link in links_to_click:\n",
    "    link.click()\n",
    "    time.sleep(0.3)\n",
    "\n",
    "if links_to_click:\n",
    "    logger.info('Successfully downloaded free goods')\n",
    "else:\n",
    "    logger.info('All free goods have already been downloaded')"
   ]
  },
  {
   "cell_type": "code",
   "execution_count": 7,
   "metadata": {},
   "outputs": [
    {
     "ename": "AttributeError",
     "evalue": "'CreativeMarketDriver' object has no attribute 'quit'",
     "output_type": "error",
     "traceback": [
      "\u001b[0;31m---------------------------------------------------------------------------\u001b[0m",
      "\u001b[0;31mAttributeError\u001b[0m                            Traceback (most recent call last)",
      "\u001b[0;32m<ipython-input-7-edc6c27c0986>\u001b[0m in \u001b[0;36m<module>\u001b[0;34m()\u001b[0m\n\u001b[0;32m----> 1\u001b[0;31m \u001b[0mdriver\u001b[0m\u001b[0;34m.\u001b[0m\u001b[0mquit\u001b[0m\u001b[0;34m(\u001b[0m\u001b[0;34m)\u001b[0m\u001b[0;34m\u001b[0m\u001b[0m\n\u001b[0m",
      "\u001b[0;31mAttributeError\u001b[0m: 'CreativeMarketDriver' object has no attribute 'quit'"
     ]
    }
   ],
   "source": [
    "driver.quit()"
   ]
  },
  {
   "cell_type": "code",
   "execution_count": null,
   "metadata": {},
   "outputs": [],
   "source": []
  }
 ],
 "metadata": {
  "kernelspec": {
   "display_name": "Python 3",
   "language": "python",
   "name": "python3"
  },
  "language_info": {
   "codemirror_mode": {
    "name": "ipython",
    "version": 3
   },
   "file_extension": ".py",
   "mimetype": "text/x-python",
   "name": "python",
   "nbconvert_exporter": "python",
   "pygments_lexer": "ipython3",
   "version": "3.7.0"
  }
 },
 "nbformat": 4,
 "nbformat_minor": 2
}
